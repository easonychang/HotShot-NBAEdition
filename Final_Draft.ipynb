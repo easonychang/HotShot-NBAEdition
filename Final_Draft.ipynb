{
  "nbformat": 4,
  "nbformat_minor": 0,
  "metadata": {
    "colab": {
      "name": "Final_Draft.ipynb",
      "version": "0.3.2",
      "provenance": []
    },
    "language_info": {
      "codemirror_mode": {
        "name": "ipython",
        "version": 3
      },
      "file_extension": ".py",
      "mimetype": "text/x-python",
      "name": "python",
      "nbconvert_exporter": "python",
      "pygments_lexer": "ipython3",
      "version": "3.7.2"
    },
    "kernelspec": {
      "display_name": "Python [conda env:dsc80]",
      "language": "python",
      "name": "conda-env-dsc80-py"
    }
  },
  "cells": [
    {
      "cell_type": "markdown",
      "metadata": {
        "id": "m8uFG-DqdHt6",
        "colab_type": "text"
      },
      "source": [
        "# COGS 108 - Final Project"
      ]
    },
    {
      "cell_type": "markdown",
      "metadata": {
        "id": "hTNJPtsQdHt8",
        "colab_type": "text"
      },
      "source": [
        "# Introduction and background"
      ]
    },
    {
      "cell_type": "markdown",
      "metadata": {
        "id": "M5sCGb81dHt9",
        "colab_type": "text"
      },
      "source": [
        "## Overview\n",
        "<span style=\"color:red\">Overview here\n",
        "\n",
        "Write a clear summary of what you did\n",
        "\n",
        "Limit overview to 3-4 sentences\n",
        "</span>.\n"
      ]
    },
    {
      "cell_type": "markdown",
      "metadata": {
        "id": "z6gdOzFndHt-",
        "colab_type": "text"
      },
      "source": [
        "## Names and IDs\n",
        "<pre>\n",
        "| Name        | PID       |\n",
        "|-------------|-----------|\n",
        "| Yuxin Zou   | A13996888 |\n",
        "| Vinci Reyes | A14155362 |\n",
        "| Chase Rowe  | A13881018 |\n",
        "| Eason Chang | A12986131 |\n",
        "| Alex Liang  | A13875895 |\n",
        "</pre>"
      ]
    },
    {
      "cell_type": "markdown",
      "metadata": {
        "id": "hGcVfbD8dHt-",
        "colab_type": "text"
      },
      "source": [
        "## Research Quesiton\n",
        "How effectively do shot statistics predict win rate?\n",
        "\n",
        "<span style=\"color:red\">\n",
        "❏ Include your specific data science question\n",
        "    \n",
        "❏ Make sure what you’re measuring (variables) to answer question is clear\n",
        "</span>"
      ]
    },
    {
      "cell_type": "markdown",
      "metadata": {
        "id": "otNMIK_wdHt_",
        "colab_type": "text"
      },
      "source": [
        "## Background and Prior Work\n",
        "Several of our group members relish in the excitement of a good basketball game. Basketball quickly became our main focus and thus became the topic of our research question. During our initial data scraping, we found a research paper written by a student from UC Berkeley in 2015 [1]. It outlines how to predict trends or patterns in a team’s dynamic using regression analysis of publicly available basketball statistics. The student predicts 6 out of 8 teams that have gone to the playoffs during the time frame he is studying using the data he refines.\n",
        "\n",
        "In sports news, newscasters and fans alike claim today’s basketball game trends are not what they used to be. In this project we are looking back at how shooting and scoring has evolved in the NBA over time from 1996 until the most recent season. We look to examine which types of shots were the most popular throughout these years and how this change relates to winning. News stations like ESPN [2] use statistics to rank players against each other to determine who is the “best” at each category. We specifically look at “Field Goal Percentage” and “Points” under the offensive category. ESPN provides many other categorical rankings based on other criteria which enforces the idea of needing a well rounded team instead of a single gimmick like extraordinary shot accuracy but terrible overall defence. In theory, the perfect team of 2019 would consist of 5 out of the 6 ranking leaders ESPN recognizes. ESPN provides raw data about each player which scouters interpret later. Scouters find promising new players and try to recruit them onto their employers’ team. The data that ESPN offers only accounts for players already in the NBA but it archives those players’ performance over time. Players who perform poorly will have their contract sold and they will be placed on another team.\n",
        "\n",
        "Halfway through our project, we found out that one of the published report on github [3] has a very similar topic: they investigated the effectiveness of a 3-point driven strategy on team shots data. They observed that the years that a higher number of 3-point shots attempted that have a positive effect on playoff rankding further outnumbered that of a negative effect, thereby concluding that adopting a 3-point strategy is preferrable in making the playoffs. However, their definition of effectiveness is limited to the playoffs and therefore not direcltly linked to teams' performance in the regular season. Also, only observing the majority of effectiveness scores are positive cannot necessarily prove the statistical significance of the outcome. We plan to develop more complex metrics/features and comprehensive analysis of the regression.\n",
        "\n",
        "\n",
        "References (include links):\n",
        "1. https://www.stat.berkeley.edu/~aldous/Research/Ugrad/Stanley_Yang%20_Thesis.pdf\n",
        "2. http://www.espn.com/nba/statistics\n",
        "3. https://github.com/COGS108/FinalProjects-Wi18/blob/master/001-FinalProject.ipynb"
      ]
    },
    {
      "cell_type": "markdown",
      "metadata": {
        "id": "i77XQblWdHuA",
        "colab_type": "text"
      },
      "source": [
        "## Hypothesis\n",
        "<span style=\"color:red\">\n",
        "\n",
        "❏ Include your team’s hypothesis\n",
        "\n",
        "❏ Ensure that this hypothesis is clear to readers\n",
        "\n",
        "❏ Explain why you think this will be the outcome (what was your thinking?)\n",
        "</span>"
      ]
    },
    {
      "cell_type": "markdown",
      "metadata": {
        "id": "38qM02Z_dHuA",
        "colab_type": "text"
      },
      "source": [
        "# Datasets"
      ]
    },
    {
      "cell_type": "markdown",
      "metadata": {
        "id": "WTbbQDB-dHuB",
        "colab_type": "text"
      },
      "source": [
        "### Team Shots\n",
        "- Dataset Name: NBA Teams Shooting Stats\n",
        "- Link to the dataset: https://stats.nba.com/teams/shooting/\n",
        "- Number of observations: 682\n",
        "- Description: The dataset includes various shooting statistics and metrics for every team in the regular season from 1997 to 2018.\n",
        "- Features used:\n",
        "        For each team name:\n",
        "        - FGM: Number of Field Goals Made\n",
        "        - FGA: Number of Field Goals Attempted\n",
        "        - FG%: Field Goals Percentage\n",
        "        - Less than 8 feet: Close Range\n",
        "        - 8-16 feet: Mid Range\n",
        "        - 16-24 feet: Long Range\n",
        "        - 24+ feet: Three Pointer\n",
        "        - Backcourt Shot\n",
        "\n",
        "\n",
        "### Team Standings\n",
        "- Dataset Name: NBA Teams Shooting Stats\n",
        "- Link to the dataset: https://www.basketball-reference.com/leagues/NBA_2019_standings.html and more!\n",
        "- Number of observations: 682\n",
        "- Description: The dataset contains the team standings for the games played in the regular season from 1997 to 2018.\n",
        "- Features used:\n",
        "        For each team:\n",
        "        - W: Number of Wins\n",
        "        - L: Number of Losses\n",
        "        - W/L%: Win-Loss Percentage\n",
        "        - GB: Games Behind\n",
        "        - PS/G: Points Per Game\n",
        "        - PA/G: Opponent Points Per Game\n",
        "        - SRS: Simple Rating System; a team rating that takes into account average point differential and strength of schedule.\n",
        "\n",
        "**Total number of observations: 682 + 682 = 1364 > 1000**"
      ]
    },
    {
      "cell_type": "markdown",
      "metadata": {
        "id": "843_fOz8dHuB",
        "colab_type": "text"
      },
      "source": [
        "## Setup"
      ]
    },
    {
      "cell_type": "code",
      "metadata": {
        "id": "iH8k97V2dHuC",
        "colab_type": "code",
        "outputId": "29428bb3-7279-45e2-abca-2cd3d3a4be3a",
        "colab": {
          "base_uri": "https://localhost:8080/",
          "height": 477
        }
      },
      "source": [
        "import pandas as pd\n",
        "import numpy as np\n",
        "import scipy as sp\n",
        "import matplotlib.pyplot as plt\n",
        "import random\n",
        "import glob\n",
        "import os\n",
        "import re\n",
        "import patsy\n",
        "import statsmodels.api as sm"
      ],
      "execution_count": 0,
      "outputs": [
        {
          "output_type": "error",
          "ename": "ImportError",
          "evalue": "ignored",
          "traceback": [
            "\u001b[0;31m---------------------------------------------------------------------------\u001b[0m",
            "\u001b[0;31mImportError\u001b[0m                               Traceback (most recent call last)",
            "\u001b[0;32m<ipython-input-5-c6ef73a8a449>\u001b[0m in \u001b[0;36m<module>\u001b[0;34m()\u001b[0m\n\u001b[1;32m      8\u001b[0m \u001b[0;32mimport\u001b[0m \u001b[0mre\u001b[0m\u001b[0;34m\u001b[0m\u001b[0;34m\u001b[0m\u001b[0m\n\u001b[1;32m      9\u001b[0m \u001b[0;32mimport\u001b[0m \u001b[0mpatsy\u001b[0m\u001b[0;34m\u001b[0m\u001b[0;34m\u001b[0m\u001b[0m\n\u001b[0;32m---> 10\u001b[0;31m \u001b[0;32mimport\u001b[0m \u001b[0mstatsmodels\u001b[0m\u001b[0;34m.\u001b[0m\u001b[0mapi\u001b[0m \u001b[0;32mas\u001b[0m \u001b[0msm\u001b[0m\u001b[0;34m\u001b[0m\u001b[0;34m\u001b[0m\u001b[0m\n\u001b[0m",
            "\u001b[0;32m/usr/local/lib/python3.6/dist-packages/statsmodels/api.py\u001b[0m in \u001b[0;36m<module>\u001b[0;34m()\u001b[0m\n\u001b[1;32m     14\u001b[0m \u001b[0;32mfrom\u001b[0m \u001b[0;34m.\u001b[0m \u001b[0;32mimport\u001b[0m \u001b[0mrobust\u001b[0m\u001b[0;34m\u001b[0m\u001b[0;34m\u001b[0m\u001b[0m\n\u001b[1;32m     15\u001b[0m \u001b[0;32mfrom\u001b[0m \u001b[0;34m.\u001b[0m\u001b[0mrobust\u001b[0m\u001b[0;34m.\u001b[0m\u001b[0mrobust_linear_model\u001b[0m \u001b[0;32mimport\u001b[0m \u001b[0mRLM\u001b[0m\u001b[0;34m\u001b[0m\u001b[0;34m\u001b[0m\u001b[0m\n\u001b[0;32m---> 16\u001b[0;31m from .discrete.discrete_model import (Poisson, Logit, Probit,\n\u001b[0m\u001b[1;32m     17\u001b[0m                                       \u001b[0mMNLogit\u001b[0m\u001b[0;34m,\u001b[0m \u001b[0mNegativeBinomial\u001b[0m\u001b[0;34m,\u001b[0m\u001b[0;34m\u001b[0m\u001b[0;34m\u001b[0m\u001b[0m\n\u001b[1;32m     18\u001b[0m                                       \u001b[0mGeneralizedPoisson\u001b[0m\u001b[0;34m,\u001b[0m\u001b[0;34m\u001b[0m\u001b[0;34m\u001b[0m\u001b[0m\n",
            "\u001b[0;32m/usr/local/lib/python3.6/dist-packages/statsmodels/discrete/discrete_model.py\u001b[0m in \u001b[0;36m<module>\u001b[0;34m()\u001b[0m\n\u001b[1;32m     43\u001b[0m \u001b[0;34m\u001b[0m\u001b[0m\n\u001b[1;32m     44\u001b[0m \u001b[0;32mfrom\u001b[0m \u001b[0mstatsmodels\u001b[0m\u001b[0;34m.\u001b[0m\u001b[0mbase\u001b[0m\u001b[0;34m.\u001b[0m\u001b[0ml1_slsqp\u001b[0m \u001b[0;32mimport\u001b[0m \u001b[0mfit_l1_slsqp\u001b[0m\u001b[0;34m\u001b[0m\u001b[0;34m\u001b[0m\u001b[0m\n\u001b[0;32m---> 45\u001b[0;31m \u001b[0;32mfrom\u001b[0m \u001b[0mstatsmodels\u001b[0m\u001b[0;34m.\u001b[0m\u001b[0mdistributions\u001b[0m \u001b[0;32mimport\u001b[0m \u001b[0mgenpoisson_p\u001b[0m\u001b[0;34m\u001b[0m\u001b[0;34m\u001b[0m\u001b[0m\n\u001b[0m\u001b[1;32m     46\u001b[0m \u001b[0;34m\u001b[0m\u001b[0m\n\u001b[1;32m     47\u001b[0m \u001b[0;32mtry\u001b[0m\u001b[0;34m:\u001b[0m\u001b[0;34m\u001b[0m\u001b[0;34m\u001b[0m\u001b[0m\n",
            "\u001b[0;32m/usr/local/lib/python3.6/dist-packages/statsmodels/distributions/__init__.py\u001b[0m in \u001b[0;36m<module>\u001b[0;34m()\u001b[0m\n\u001b[1;32m      1\u001b[0m \u001b[0;32mfrom\u001b[0m \u001b[0;34m.\u001b[0m\u001b[0mempirical_distribution\u001b[0m \u001b[0;32mimport\u001b[0m \u001b[0mECDF\u001b[0m\u001b[0;34m,\u001b[0m \u001b[0mmonotone_fn_inverter\u001b[0m\u001b[0;34m,\u001b[0m \u001b[0mStepFunction\u001b[0m\u001b[0;34m\u001b[0m\u001b[0;34m\u001b[0m\u001b[0m\n\u001b[0;32m----> 2\u001b[0;31m \u001b[0;32mfrom\u001b[0m \u001b[0;34m.\u001b[0m\u001b[0medgeworth\u001b[0m \u001b[0;32mimport\u001b[0m \u001b[0mExpandedNormal\u001b[0m\u001b[0;34m\u001b[0m\u001b[0;34m\u001b[0m\u001b[0m\n\u001b[0m\u001b[1;32m      3\u001b[0m \u001b[0;32mfrom\u001b[0m \u001b[0;34m.\u001b[0m\u001b[0mdiscrete\u001b[0m \u001b[0;32mimport\u001b[0m \u001b[0mgenpoisson_p\u001b[0m\u001b[0;34m,\u001b[0m \u001b[0mzipoisson\u001b[0m\u001b[0;34m,\u001b[0m \u001b[0mzigenpoisson\u001b[0m\u001b[0;34m,\u001b[0m \u001b[0mzinegbin\u001b[0m\u001b[0;34m\u001b[0m\u001b[0;34m\u001b[0m\u001b[0m\n",
            "\u001b[0;32m/usr/local/lib/python3.6/dist-packages/statsmodels/distributions/edgeworth.py\u001b[0m in \u001b[0;36m<module>\u001b[0;34m()\u001b[0m\n\u001b[1;32m      5\u001b[0m \u001b[0;32mimport\u001b[0m \u001b[0mnumpy\u001b[0m \u001b[0;32mas\u001b[0m \u001b[0mnp\u001b[0m\u001b[0;34m\u001b[0m\u001b[0;34m\u001b[0m\u001b[0m\n\u001b[1;32m      6\u001b[0m \u001b[0;32mfrom\u001b[0m \u001b[0mnumpy\u001b[0m\u001b[0;34m.\u001b[0m\u001b[0mpolynomial\u001b[0m\u001b[0;34m.\u001b[0m\u001b[0mhermite_e\u001b[0m \u001b[0;32mimport\u001b[0m \u001b[0mHermiteE\u001b[0m\u001b[0;34m\u001b[0m\u001b[0;34m\u001b[0m\u001b[0m\n\u001b[0;32m----> 7\u001b[0;31m \u001b[0;32mfrom\u001b[0m \u001b[0mscipy\u001b[0m\u001b[0;34m.\u001b[0m\u001b[0mmisc\u001b[0m \u001b[0;32mimport\u001b[0m \u001b[0mfactorial\u001b[0m\u001b[0;34m\u001b[0m\u001b[0;34m\u001b[0m\u001b[0m\n\u001b[0m\u001b[1;32m      8\u001b[0m \u001b[0;32mfrom\u001b[0m \u001b[0mscipy\u001b[0m\u001b[0;34m.\u001b[0m\u001b[0mstats\u001b[0m \u001b[0;32mimport\u001b[0m \u001b[0mrv_continuous\u001b[0m\u001b[0;34m\u001b[0m\u001b[0;34m\u001b[0m\u001b[0m\n\u001b[1;32m      9\u001b[0m \u001b[0;32mimport\u001b[0m \u001b[0mscipy\u001b[0m\u001b[0;34m.\u001b[0m\u001b[0mspecial\u001b[0m \u001b[0;32mas\u001b[0m \u001b[0mspecial\u001b[0m\u001b[0;34m\u001b[0m\u001b[0;34m\u001b[0m\u001b[0m\n",
            "\u001b[0;31mImportError\u001b[0m: cannot import name 'factorial'",
            "",
            "\u001b[0;31m---------------------------------------------------------------------------\u001b[0;32m\nNOTE: If your import is failing due to a missing package, you can\nmanually install dependencies using either !pip or !apt.\n\nTo view examples of installing some common dependencies, click the\n\"Open Examples\" button below.\n\u001b[0;31m---------------------------------------------------------------------------\u001b[0m\n"
          ]
        }
      ]
    },
    {
      "cell_type": "markdown",
      "metadata": {
        "id": "nNkd1nHNdHuF",
        "colab_type": "text"
      },
      "source": [
        "## Data Collection (team shots)\n",
        "\n",
        "First, we collected shooting data from the official NBA website (https://stats.nba.com/teams/shooting/?Season=2018-19&SeasonType=Regular%20Season&DistanceRange=8ft%20Range&PerMode=Totals). \n",
        "\n",
        "Definitions:\n",
        "We were able to copy each team’s shooting data from the season 1996-1997 all the way until the most recent season 2018-2019 into one google sheets document, with each sheet representing a season. Before we could import this data into python using pandas’s data frame, we have to first do some work."
      ]
    },
    {
      "cell_type": "markdown",
      "metadata": {
        "id": "sVPdKyrqdHuG",
        "colab_type": "text"
      },
      "source": [
        "<img src=\"https://github.com/easonychang/HotShot-NBAEdition/blob/master/writeup-img/data-shots-image-1.png?raw=1\" width=\"700\">"
      ]
    },
    {
      "cell_type": "markdown",
      "metadata": {
        "id": "RCXW1xiMdHuG",
        "colab_type": "text"
      },
      "source": [
        "We immediately notice certain things. The top most row represents each types of different shots. With data frame’s structure in mind, the second row with FGM, FGA, and FG% will be each column’s label. In order to be able to access each column’s data accurately without trouble, we have to do some manipulation to that label to make each column’s label unique. For example, FGM in less than 8 feet with be changed to FGM-C, FGM within 8-16 feet with be changed to FGM-L, etc. In our data, we can also eliminate the three rows for backcourt shots, since they are not a type of shot normally taken in a game situation, these are shots taken way out of range near the end of a quarter (play period). Therefore, it is safe to eliminate these three columns in Backcourt Shot and still preserve the data integrity. \n"
      ]
    },
    {
      "cell_type": "markdown",
      "metadata": {
        "id": "USP0-ZOddHuH",
        "colab_type": "text"
      },
      "source": [
        "<img src=\"https://github.com/easonychang/HotShot-NBAEdition/blob/master/writeup-img/data-shots-image-2.png?raw=1\" width=\"700\">"
      ]
    },
    {
      "cell_type": "markdown",
      "metadata": {
        "id": "SG58JktVdHuI",
        "colab_type": "text"
      },
      "source": [
        "Now we are ready to download it into a csv and import it into python through pandas."
      ]
    },
    {
      "cell_type": "markdown",
      "metadata": {
        "id": "j-trbIQydHuI",
        "colab_type": "text"
      },
      "source": [
        "## Data Cleaning / Pre-processing"
      ]
    },
    {
      "cell_type": "markdown",
      "metadata": {
        "id": "4jkNIRUMdHuJ",
        "colab_type": "text"
      },
      "source": [
        "**The first step we need to do is to combine the data from all the years into one giant dataframe.**"
      ]
    },
    {
      "cell_type": "code",
      "metadata": {
        "id": "O29pZIx5dHuJ",
        "colab_type": "code",
        "colab": {}
      },
      "source": [
        "# FG is a list that will store each year's shot data in order\n",
        "FG = glob.glob('Shot Data - CSV/Shot Data - *.csv')"
      ],
      "execution_count": 0,
      "outputs": []
    },
    {
      "cell_type": "code",
      "metadata": {
        "id": "sCuXhNySdHuM",
        "colab_type": "code",
        "outputId": "e28796cb-c3fe-4293-a5d3-1d40192a6b54",
        "colab": {
          "base_uri": "https://localhost:8080/",
          "height": 34
        }
      },
      "source": [
        "# We want to add the name of the season to the dataframe\n",
        "YEARs = [re.findall(r'Shot Data - ((\\d+)-\\d+).csv', s)[0] for s in FG]\n",
        "\n",
        "# A sample of the `YEAR_SPAN` and `Year` column\n",
        "YEARs[:5]"
      ],
      "execution_count": 0,
      "outputs": [
        {
          "output_type": "execute_result",
          "data": {
            "text/plain": [
              "[]"
            ]
          },
          "metadata": {
            "tags": []
          },
          "execution_count": 4
        }
      ]
    },
    {
      "cell_type": "code",
      "metadata": {
        "id": "2ou9GJNMdHuQ",
        "colab_type": "code",
        "colab": {}
      },
      "source": [
        "# Read these csv into dataframes\n",
        "\n",
        "FG = [pd.read_csv(fp, skiprows=1) for fp in FG]  # Skip first row, redundant information\n",
        "\n",
        "# Add the `YEAR_SPAN` and `Year` column in a for loop\n",
        "\n",
        "for i in range(len(YEARs)):\n",
        "    FG[i]['YEAR_SPAN'] = YEARs[i][0]  # Assign '1998-1999'\n",
        "    FG[i]['YEAR'] = YEARs[i][1]  # Assign '1998'\n",
        "    FG[i]['YEAR'] = FG[i]['YEAR'].astype(int) # Convert to integer type"
      ],
      "execution_count": 0,
      "outputs": []
    },
    {
      "cell_type": "markdown",
      "metadata": {
        "id": "buC05ZpHdHuT",
        "colab_type": "text"
      },
      "source": [
        "### Joining data"
      ]
    },
    {
      "cell_type": "code",
      "metadata": {
        "id": "ASbYA_pFdHuT",
        "colab_type": "code",
        "outputId": "3ddd94ed-44f4-4378-aba8-94b0492abe30",
        "colab": {}
      },
      "source": [
        "# Join the dataframe (concatenation)\n",
        "\n",
        "shots_df = pd.concat(FG, ignore_index=True)\n",
        "shots_df.sample(3)"
      ],
      "execution_count": 0,
      "outputs": [
        {
          "output_type": "execute_result",
          "data": {
            "text/html": [
              "<div>\n",
              "<style scoped>\n",
              "    .dataframe tbody tr th:only-of-type {\n",
              "        vertical-align: middle;\n",
              "    }\n",
              "\n",
              "    .dataframe tbody tr th {\n",
              "        vertical-align: top;\n",
              "    }\n",
              "\n",
              "    .dataframe thead th {\n",
              "        text-align: right;\n",
              "    }\n",
              "</style>\n",
              "<table border=\"1\" class=\"dataframe\">\n",
              "  <thead>\n",
              "    <tr style=\"text-align: right;\">\n",
              "      <th></th>\n",
              "      <th>TEAM</th>\n",
              "      <th>FGM-C</th>\n",
              "      <th>FGA-C</th>\n",
              "      <th>FG%-C</th>\n",
              "      <th>FGM-M</th>\n",
              "      <th>FGA-M</th>\n",
              "      <th>FG%-M</th>\n",
              "      <th>FGM-L</th>\n",
              "      <th>FGA-L</th>\n",
              "      <th>FG%-L</th>\n",
              "      <th>FGM-T</th>\n",
              "      <th>FGA-T</th>\n",
              "      <th>FG%-T</th>\n",
              "      <th>YEAR_SPAN</th>\n",
              "      <th>YEAR</th>\n",
              "    </tr>\n",
              "  </thead>\n",
              "  <tbody>\n",
              "    <tr>\n",
              "      <th>680</th>\n",
              "      <td>Utah Jazz</td>\n",
              "      <td>1634</td>\n",
              "      <td>2844</td>\n",
              "      <td>57.5</td>\n",
              "      <td>361</td>\n",
              "      <td>906</td>\n",
              "      <td>39.8</td>\n",
              "      <td>721</td>\n",
              "      <td>1667</td>\n",
              "      <td>43.3</td>\n",
              "      <td>353</td>\n",
              "      <td>1039</td>\n",
              "      <td>34.0</td>\n",
              "      <td>2006-2007</td>\n",
              "      <td>2006</td>\n",
              "    </tr>\n",
              "    <tr>\n",
              "      <th>11</th>\n",
              "      <td>Los Angeles Clippers</td>\n",
              "      <td>971</td>\n",
              "      <td>1862</td>\n",
              "      <td>52.1</td>\n",
              "      <td>249</td>\n",
              "      <td>728</td>\n",
              "      <td>34.2</td>\n",
              "      <td>278</td>\n",
              "      <td>749</td>\n",
              "      <td>37.1</td>\n",
              "      <td>213</td>\n",
              "      <td>660</td>\n",
              "      <td>32.3</td>\n",
              "      <td>1998-1999</td>\n",
              "      <td>1998</td>\n",
              "    </tr>\n",
              "    <tr>\n",
              "      <th>217</th>\n",
              "      <td>Indiana Pacers</td>\n",
              "      <td>1490</td>\n",
              "      <td>2826</td>\n",
              "      <td>52.7</td>\n",
              "      <td>541</td>\n",
              "      <td>1378</td>\n",
              "      <td>39.3</td>\n",
              "      <td>615</td>\n",
              "      <td>1456</td>\n",
              "      <td>42.2</td>\n",
              "      <td>203</td>\n",
              "      <td>584</td>\n",
              "      <td>34.8</td>\n",
              "      <td>1996-1997</td>\n",
              "      <td>1996</td>\n",
              "    </tr>\n",
              "  </tbody>\n",
              "</table>\n",
              "</div>"
            ],
            "text/plain": [
              "                     TEAM  FGM-C  FGA-C  FG%-C  FGM-M  FGA-M  FG%-M  FGM-L  \\\n",
              "680             Utah Jazz   1634   2844   57.5    361    906   39.8    721   \n",
              "11   Los Angeles Clippers    971   1862   52.1    249    728   34.2    278   \n",
              "217        Indiana Pacers   1490   2826   52.7    541   1378   39.3    615   \n",
              "\n",
              "     FGA-L  FG%-L  FGM-T  FGA-T  FG%-T  YEAR_SPAN  YEAR  \n",
              "680   1667   43.3    353   1039   34.0  2006-2007  2006  \n",
              "11     749   37.1    213    660   32.3  1998-1999  1998  \n",
              "217   1456   42.2    203    584   34.8  1996-1997  1996  "
            ]
          },
          "metadata": {
            "tags": []
          },
          "execution_count": 5
        }
      ]
    },
    {
      "cell_type": "markdown",
      "metadata": {
        "id": "zG_nIdnCdHuX",
        "colab_type": "text"
      },
      "source": [
        "### Replacing team names\n",
        "**By looking at the number of appearance for each team in the whole dataset, we notice there are teams that have changed their names.**"
      ]
    },
    {
      "cell_type": "code",
      "metadata": {
        "id": "2l8U0lt-dHuX",
        "colab_type": "code",
        "outputId": "e594e207-9d10-4be9-f423-85ff1db3a777",
        "colab": {}
      },
      "source": [
        "def display_team_counts(df, title):\n",
        "    fig, ax = plt.subplots(0)\n",
        "    ax = df.groupby(\"TEAM\")['YEAR'].nunique().sort_index() \\\n",
        "           .plot.bar(figsize=(14, 2))\n",
        "    plt.setp( ax.xaxis.get_majorticklabels(), rotation=75)\n",
        "    plt.ylabel('count')\n",
        "    plt.title(title)\n",
        "    plt.show()\n",
        "    \n",
        "display_team_counts(shots_df, 'Team Appearance Counts before Mapping Names')"
      ],
      "execution_count": 0,
      "outputs": [
        {
          "output_type": "display_data",
          "data": {
            "image/png": "[encoded data removed]",
            "text/plain": [
              "<Figure size 1008x144 with 1 Axes>"
            ]
          },
          "metadata": {
            "tags": [],
            "needs_background": "light"
          }
        }
      ]
    },
    {
      "cell_type": "code",
      "metadata": {
        "id": "enYpAv3HdHua",
        "colab_type": "code",
        "colab": {}
      },
      "source": [
        "# Function definition for replacing team names\n",
        "# Data source: manual googling.\n",
        "\n",
        "def replace_team_name(name):\n",
        "    if name == 'Seattle SuperSonics':\n",
        "        return 'Oklahoma City Thunder'\n",
        "    elif name == 'Charlotte Bobcats':\n",
        "        return 'Charlotte Hornets'\n",
        "    elif name == 'Vancouver Grizzlies':\n",
        "        return 'Memphis Grizzlies'\n",
        "    elif name == 'New Orleans Hornets' or name == 'New Orleans/Oklahoma City Hornets':\n",
        "        return 'New Orleans Pelicans'\n",
        "    elif name == 'Washington Bullets':\n",
        "        return 'Washington Wizards'\n",
        "    elif name == 'Los Angeles Clippers':\n",
        "        return 'LA Clippers'\n",
        "    elif name == 'New Jersey Nets':\n",
        "        return 'Brooklyn Nets'\n",
        "    return name\n",
        "\n",
        "# Replacing\n",
        "shots_df['TEAM'] = shots_df['TEAM'].apply(replace_team_name)"
      ],
      "execution_count": 0,
      "outputs": []
    },
    {
      "cell_type": "code",
      "metadata": {
        "id": "6RrMoF_bdHuc",
        "colab_type": "code",
        "outputId": "6ad68b33-9ed3-4834-d09d-e01d75bc40f1",
        "colab": {}
      },
      "source": [
        "display_team_counts(shots_df, 'Team Appearance Counts after Mapping Names')"
      ],
      "execution_count": 0,
      "outputs": [
        {
          "output_type": "display_data",
          "data": {
            "image/png": "[encoded data removed]",
            "text/plain": [
              "<Figure size 1008x144 with 1 Axes>"
            ]
          },
          "metadata": {
            "tags": [],
            "needs_background": "light"
          }
        }
      ]
    },
    {
      "cell_type": "markdown",
      "metadata": {
        "id": "fsFjaIsQdHuf",
        "colab_type": "text"
      },
      "source": [
        "**We are able to see that most of the teams have been in the NBA from all the years in the dataset.**"
      ]
    },
    {
      "cell_type": "markdown",
      "metadata": {
        "id": "Md7BRbUDdHuf",
        "colab_type": "text"
      },
      "source": [
        "## Data Collection (season ranking)"
      ]
    },
    {
      "cell_type": "markdown",
      "metadata": {
        "id": "41ED1UeldHug",
        "colab_type": "text"
      },
      "source": [
        "**We decided to get our seasonal win data from the same source, using html requests**"
      ]
    },
    {
      "cell_type": "code",
      "metadata": {
        "id": "oe051mgUdHug",
        "colab_type": "code",
        "colab": {}
      },
      "source": [
        "# For cleaning the team name in the original table\n",
        "def standardize_team_name(name):\n",
        "    out = name.split('(')[0]\n",
        "    out = out.replace('*', '')\n",
        "    out = out.strip()\n",
        "    return out\n",
        "\n",
        "big_df = []\n",
        "\n",
        "# For cleaning purposes\n",
        "division = [\n",
        "    'Atlantic Division', 'Central Division', 'Northwest Division', 'Southeast Division',\n",
        "    'Southwest Division', 'Pacific Division', 'Midwest Division'\n",
        "]"
      ],
      "execution_count": 0,
      "outputs": []
    },
    {
      "cell_type": "code",
      "metadata": {
        "id": "ZPhZPEmedHui",
        "colab_type": "code",
        "colab": {}
      },
      "source": [
        "for year in range(1997, 2019+1):\n",
        "    # Scrape data from the source website\n",
        "    nba_year = 'https://www.basketball-reference.com/leagues/NBA_'+ str(year) + \\\n",
        "        '_standings.html'\n",
        "    data = pd.read_html(nba_year)\n",
        "\n",
        "    # Combine the tables we want and standardize\n",
        "    data[0] = data[0].rename(index=str, columns={\"Eastern Conference\": \"TEAM\"})\n",
        "    data[1] = data[1].rename(index=str, columns={\"Western Conference\": \"TEAM\"})\n",
        "    df_data = pd.concat(data[:2], sort=False, ignore_index=True)\n",
        "    df_data['TEAM'] = df_data['TEAM'].apply(standardize_team_name)\n",
        "\n",
        "    # Drop excess rows and columns that contain useless information\n",
        "    df_data = df_data.drop(columns = ['GB', 'SRS'])\n",
        "    for div in division:\n",
        "        df_data = df_data[df_data.TEAM != div]\n",
        "\n",
        "    \n",
        "    df_data['YEAR_SPAN'] = str(year - 1) + '-' + str(year)\n",
        "    df_data['YEAR'] = str(year - 1)\n",
        "    big_df.append(df_data)"
      ],
      "execution_count": 0,
      "outputs": []
    },
    {
      "cell_type": "code",
      "metadata": {
        "id": "MNDM9F-3dHuk",
        "colab_type": "code",
        "outputId": "d0c64753-7cae-45dd-ef5b-80c06a369009",
        "colab": {}
      },
      "source": [
        "# Now we combine them into one dataframe\n",
        "win_df = pd.concat(big_df, sort=False, ignore_index=True)\n",
        "win_df.head()"
      ],
      "execution_count": 0,
      "outputs": [
        {
          "output_type": "execute_result",
          "data": {
            "text/html": [
              "<div>\n",
              "<style scoped>\n",
              "    .dataframe tbody tr th:only-of-type {\n",
              "        vertical-align: middle;\n",
              "    }\n",
              "\n",
              "    .dataframe tbody tr th {\n",
              "        vertical-align: top;\n",
              "    }\n",
              "\n",
              "    .dataframe thead th {\n",
              "        text-align: right;\n",
              "    }\n",
              "</style>\n",
              "<table border=\"1\" class=\"dataframe\">\n",
              "  <thead>\n",
              "    <tr style=\"text-align: right;\">\n",
              "      <th></th>\n",
              "      <th>TEAM</th>\n",
              "      <th>W</th>\n",
              "      <th>L</th>\n",
              "      <th>W/L%</th>\n",
              "      <th>PS/G</th>\n",
              "      <th>PA/G</th>\n",
              "      <th>YEAR_SPAN</th>\n",
              "      <th>YEAR</th>\n",
              "    </tr>\n",
              "  </thead>\n",
              "  <tbody>\n",
              "    <tr>\n",
              "      <th>0</th>\n",
              "      <td>Miami Heat</td>\n",
              "      <td>61</td>\n",
              "      <td>21</td>\n",
              "      <td>.744</td>\n",
              "      <td>94.8</td>\n",
              "      <td>89.3</td>\n",
              "      <td>1996-1997</td>\n",
              "      <td>1996</td>\n",
              "    </tr>\n",
              "    <tr>\n",
              "      <th>1</th>\n",
              "      <td>New York Knicks</td>\n",
              "      <td>57</td>\n",
              "      <td>25</td>\n",
              "      <td>.695</td>\n",
              "      <td>95.4</td>\n",
              "      <td>92.2</td>\n",
              "      <td>1996-1997</td>\n",
              "      <td>1996</td>\n",
              "    </tr>\n",
              "    <tr>\n",
              "      <th>2</th>\n",
              "      <td>Orlando Magic</td>\n",
              "      <td>45</td>\n",
              "      <td>37</td>\n",
              "      <td>.549</td>\n",
              "      <td>94.1</td>\n",
              "      <td>94.5</td>\n",
              "      <td>1996-1997</td>\n",
              "      <td>1996</td>\n",
              "    </tr>\n",
              "    <tr>\n",
              "      <th>3</th>\n",
              "      <td>Washington Bullets</td>\n",
              "      <td>44</td>\n",
              "      <td>38</td>\n",
              "      <td>.537</td>\n",
              "      <td>99.4</td>\n",
              "      <td>97.7</td>\n",
              "      <td>1996-1997</td>\n",
              "      <td>1996</td>\n",
              "    </tr>\n",
              "    <tr>\n",
              "      <th>4</th>\n",
              "      <td>New Jersey Nets</td>\n",
              "      <td>26</td>\n",
              "      <td>56</td>\n",
              "      <td>.317</td>\n",
              "      <td>97.2</td>\n",
              "      <td>101.8</td>\n",
              "      <td>1996-1997</td>\n",
              "      <td>1996</td>\n",
              "    </tr>\n",
              "  </tbody>\n",
              "</table>\n",
              "</div>"
            ],
            "text/plain": [
              "                 TEAM   W   L  W/L%  PS/G   PA/G  YEAR_SPAN  YEAR\n",
              "0          Miami Heat  61  21  .744  94.8   89.3  1996-1997  1996\n",
              "1     New York Knicks  57  25  .695  95.4   92.2  1996-1997  1996\n",
              "2       Orlando Magic  45  37  .549  94.1   94.5  1996-1997  1996\n",
              "3  Washington Bullets  44  38  .537  99.4   97.7  1996-1997  1996\n",
              "4     New Jersey Nets  26  56  .317  97.2  101.8  1996-1997  1996"
            ]
          },
          "metadata": {
            "tags": []
          },
          "execution_count": 11
        }
      ]
    },
    {
      "cell_type": "markdown",
      "metadata": {
        "id": "hSofyw6VdHup",
        "colab_type": "text"
      },
      "source": [
        "## Further Data Cleaning / Pre-processing"
      ]
    },
    {
      "cell_type": "markdown",
      "metadata": {
        "id": "RSNjKyczdHuq",
        "colab_type": "text"
      },
      "source": [
        "### Combining two datasets"
      ]
    },
    {
      "cell_type": "code",
      "metadata": {
        "id": "kXJa28TvdHuq",
        "colab_type": "code",
        "colab": {}
      },
      "source": [
        "# Apply the same rules to replace team names\n",
        "win_df['TEAM'] = win_df['TEAM'].apply(replace_team_name)\n",
        "\n",
        "# Add a new column to join on for both dataframes\n",
        "win_df['TEAM-YEAR'] = win_df['TEAM'] + '-' + win_df['YEAR']\n",
        "shots_df['TEAM-YEAR'] = shots_df['TEAM'] + '-' + shots_df['YEAR'].astype(str)\n",
        "\n",
        "# Drop redundant columns\n",
        "win_df = win_df.drop(columns = ['TEAM', 'YEAR_SPAN', 'YEAR'])"
      ],
      "execution_count": 0,
      "outputs": []
    },
    {
      "cell_type": "code",
      "metadata": {
        "scrolled": false,
        "id": "DzACCUW7dHut",
        "colab_type": "code",
        "colab": {}
      },
      "source": [
        "# Merge/join two datasets\n",
        "final_df = pd.merge(shots_df, win_df, on='TEAM-YEAR', copy=False)"
      ],
      "execution_count": 0,
      "outputs": []
    },
    {
      "cell_type": "markdown",
      "metadata": {
        "id": "Ivo5n4sqdHuv",
        "colab_type": "text"
      },
      "source": [
        "\n",
        "Season 1998-1999 played 50 games, Season 2011-2012 played 66 games instead of 82 because of lock out!"
      ]
    },
    {
      "cell_type": "markdown",
      "metadata": {
        "id": "-bYwJwjMdHuw",
        "colab_type": "text"
      },
      "source": [
        "### Missingness analysis"
      ]
    },
    {
      "cell_type": "code",
      "metadata": {
        "id": "4Jii5sGAdHuw",
        "colab_type": "code",
        "outputId": "e393323e-b79b-4f40-c0f3-eff60007430b",
        "colab": {}
      },
      "source": [
        "final_df.notna().all().all()"
      ],
      "execution_count": 0,
      "outputs": [
        {
          "output_type": "execute_result",
          "data": {
            "text/plain": [
              "True"
            ]
          },
          "metadata": {
            "tags": []
          },
          "execution_count": 14
        }
      ]
    },
    {
      "cell_type": "markdown",
      "metadata": {
        "id": "2KB-MTZddHu1",
        "colab_type": "text"
      },
      "source": [
        "**This shows that there is no missing data for all rows and columns, meaning our dataset is cleaned successfully and ready to use. There is no need to impute missing values.**"
      ]
    },
    {
      "cell_type": "markdown",
      "metadata": {
        "id": "iO2j7Oj2dHu1",
        "colab_type": "text"
      },
      "source": [
        "# Data Visualization"
      ]
    },
    {
      "cell_type": "markdown",
      "metadata": {
        "id": "-7VSmo1qyip4",
        "colab_type": "text"
      },
      "source": [
        "Data Visualization for the year 2004 to 2019, charting the percentage of each type of shots taken over the years. We can notice teams start shooting more three pointers and less shots from the 8-16 feet range, and 16-24 feet range."
      ]
    },
    {
      "cell_type": "code",
      "metadata": {
        "id": "9bRWSXeDdHu2",
        "colab_type": "code",
        "colab": {}
      },
      "source": [
        "# Setting the index to be the team, and group the dataframe by year\n",
        "a = final_df.groupby('YEAR').apply(lambda df_: df_.set_index('TEAM', drop=True).sort_index())\n",
        "\n",
        "# Started in Year 2004, since this is the first year where we have 30 teams.\n",
        "for year in range(2004, 2019):\n",
        "\n",
        "  # Create a figure with a single subplot\n",
        "  f, ax = plt.subplots(1, figsize=(18,8))\n",
        "\n",
        "  # Create the total Field Goal Attempted by each team \n",
        "  totals = [i+j+k+l for i,j,k,l in zip(a.loc[year]['FGA-C'], a.loc[year]['FGA-M'], a.loc[year]['FGA-L'], a.loc[year]['FGA-T'])]\n",
        "\n",
        "  # Create the percentage of the close range shot attempts ove total shot attempts\n",
        "  close = [i / j * 100 for  i,j in zip(a.loc[year]['FGA-C'], totals)]\n",
        "\n",
        "  # Create the percentage of the mid range shot attempts ove total shot attempts\n",
        "  mid = [i / j * 100 for  i,j in zip(a.loc[year]['FGA-M'], totals)]\n",
        "\n",
        "  # Create the percentage of the long range shot attempts ove total shot attempts\n",
        "  long = [i / j * 100 for  i,j in zip(a.loc[year]['FGA-L'], totals)]\n",
        "\n",
        "  # Create the percentage of the three point shot attempts ove total shot attempts\n",
        "  threes = [i / j * 100 for  i,j in zip(a.loc[year]['FGA-T'], totals)]\n",
        "\n",
        "  team = a.loc[2018].index\n",
        "  \n",
        "  barWidth = 0.55\n",
        "\n",
        "  # Plot the percentage bar graph\n",
        "  p1 = plt.bar(team, close, color='#003f5c', edgecolor='white', width=barWidth)\n",
        "\n",
        "  p2 = plt.bar(team, mid, bottom=close, color='#7a5195', edgecolor='white', width=barWidth)\n",
        "\n",
        "  p3 = plt.bar(team, long, bottom=[i+j for i,j in zip(close, mid)], color='#ef5675', edgecolor='white', width=barWidth)\n",
        "\n",
        "  p4 = plt.bar(team, threes, bottom=[i+j+k for i,j,k in zip(close, mid, long)], color='#ffa600', edgecolor='white', width=barWidth)\n",
        "  \n",
        "  plt.setp(plt.gca().get_xticklabels(), rotation=45, horizontalalignment='right')\n",
        "  \n",
        "  # Label and Legend\n",
        "  plt.title('Season ' + str(year) + ' - ' + str(year+1) , fontsize=20)\n",
        "  plt.xlabel('Team')\n",
        "  plt.ylabel('Percentage of shots taken')\n",
        "  plt.legend((p1[0], p2[0], p3[0], p4[0]), ('Close Range', 'Mid Range', 'Long Range', 'Three Pointer'))\n",
        "\n",
        "  plt.show()"
      ],
      "execution_count": 0,
      "outputs": []
    },
    {
      "cell_type": "markdown",
      "metadata": {
        "id": "pGDNWoNFdHu4",
        "colab_type": "text"
      },
      "source": [
        "# Data analysis and results"
      ]
    },
    {
      "cell_type": "markdown",
      "metadata": {
        "id": "OxAH3vmDdHu4",
        "colab_type": "text"
      },
      "source": [
        "### Developing metric / making a new feature\n",
        "\n",
        "As a starter, we want to verify the trend that teams are attempting more shots that are further away in order to score more. However, the data we have are limited in the sense that shots are grouped in a range type and it is difficult to compare all types of shots in terms of trend. So we come up with a metric that takes in the number of shots for each type and multiply them by their respective distance. We can call this metric `Approximated Average Shot Distance`.\n",
        "\n",
        "For each group (A. Less than 8 feet: Close Range, B. 8-16 feet: Mid Range, C. 16-24 feet: Long Range, D. 24+ feet: Three Pointer), we approximated a best guess of the average shot distance for each group. They are:\n",
        " - 5 feet for Close Range\n",
        " - 12 feet for Mid Range\n",
        " - 20 feet for Long Range\n",
        " - 25 feet for Three Pointer"
      ]
    },
    {
      "cell_type": "code",
      "metadata": {
        "id": "7uWc_AkYdHu5",
        "colab_type": "code",
        "colab": {}
      },
      "source": [
        "# Function definition:\n",
        "# Takes in a series of data from one year for a team\n",
        "# Returns the approximated average shot distance\n",
        "\n",
        "def average_shooting_dist(s):\n",
        "    sum_all_distances = 5 * s['FGA-C'] + 12 * s['FGA-M'] + 20 * s['FGA-L'] + 25 * s['FGA-T']\n",
        "    num_of_attempts = s['FGA-C'] + s['FGA-M'] + s['FGA-L'] + s['FGA-T']\n",
        "    return sum_all_distances / num_of_attempts\n",
        "\n",
        "# Calculate and add to dataframe\n",
        "final_df['avg_shot_dist'] = final_df.apply(average_shooting_dist, axis=1)"
      ],
      "execution_count": 0,
      "outputs": []
    },
    {
      "cell_type": "markdown",
      "metadata": {
        "id": "M1RfvRkvdHu6",
        "colab_type": "text"
      },
      "source": [
        "`Approximated Average Shot Distance`"
      ]
    },
    {
      "cell_type": "code",
      "metadata": {
        "id": "Q_EBUYkgdHu7",
        "colab_type": "code",
        "outputId": "e7e7ff9a-bce3-40bf-a4c7-ba7a61d79813",
        "colab": {}
      },
      "source": [
        "final_df.groupby('YEAR')['avg_shot_dist'].mean().plot(figsize=(9, 4), );"
      ],
      "execution_count": 0,
      "outputs": [
        {
          "output_type": "display_data",
          "data": {
            "image/png": "[encoded data removed]",
            "text/plain": [
              "<Figure size 648x288 with 1 Axes>"
            ]
          },
          "metadata": {
            "tags": [],
            "needs_background": "light"
          }
        }
      ]
    },
    {
      "cell_type": "code",
      "metadata": {
        "id": "rqyiRIgHdHu9",
        "colab_type": "code",
        "colab": {}
      },
      "source": [
        ""
      ],
      "execution_count": 0,
      "outputs": []
    }
  ]
}